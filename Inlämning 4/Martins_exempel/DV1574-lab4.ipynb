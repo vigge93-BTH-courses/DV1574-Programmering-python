{
 "cells": [
  {
   "cell_type": "code",
   "execution_count": null,
   "metadata": {},
   "outputs": [],
   "source": [
    "#\n",
    "# Martin Boldt, Blekinge Institute of Technology, Oct 2019.\n",
    "#\n",
    "\n",
    "import pandas as pd\n",
    "import numpy as np"
   ]
  },
  {
   "cell_type": "markdown",
   "metadata": {},
   "source": [
    "### Läs in datan från filen \"Grilla.csv\" till en Pandas Dataframe och skriv ut datan på skärmen. Tolka varje kolumn som kategorisk data (engelska: 'category')"
   ]
  },
  {
   "cell_type": "code",
   "execution_count": null,
   "metadata": {},
   "outputs": [],
   "source": [
    "df = pd.read_csv(\"Grilla.csv\",  dtype='category', sep=\",\")\n",
    "print( df )"
   ]
  },
  {
   "cell_type": "markdown",
   "metadata": {},
   "source": [
    "### Skriv ut kodningen av kategorierna för respektive kolumn\n"
   ]
  },
  {
   "cell_type": "code",
   "execution_count": null,
   "metadata": {
    "scrolled": true
   },
   "outputs": [],
   "source": [
    "for catindex, catname in enumerate( df.columns ):\n",
    "    print( \"{0:10s} = {1}\".format( catname, df[catname].cat.categories ) )"
   ]
  },
  {
   "cell_type": "markdown",
   "metadata": {},
   "source": [
    "### Spara integer-representation av kategorierna (för respektive kolumn) i en ny dataframe, och skriv ut deras koder på skärmen\n"
   ]
  },
  {
   "cell_type": "code",
   "execution_count": null,
   "metadata": {},
   "outputs": [],
   "source": [
    "df_coded = pd.DataFrame()\n",
    "\n",
    "df_coded['Dag'] = df['Dag'].astype('category').cat.codes\n",
    "df_coded['Väder'] = df['Väder'].astype('category').cat.codes\n",
    "df_coded['Temperatur'] = df['Temperatur'].astype('category').cat.codes\n",
    "df_coded['Fuktighet'] = df['Fuktighet'].astype('category').cat.codes\n",
    "df_coded['Vind'] = df['Vind'].astype('category').cat.codes\n",
    "df_coded['Grilla'] = df['Grilla'].astype('category').cat.codes\n",
    "\n",
    "print( df_coded )"
   ]
  },
  {
   "cell_type": "markdown",
   "metadata": {},
   "source": [
    "### Spara datan i samtliga kolumner _utom_ första och sista i dataframen \"X\". Spara därefter sista kolumen (alltså klassvariablen) till dataframen \"y\"\n"
   ]
  },
  {
   "cell_type": "code",
   "execution_count": null,
   "metadata": {},
   "outputs": [],
   "source": [
    "X = df_coded.iloc[:,1:5] \n",
    "y = df_coded.iloc[:,5]"
   ]
  },
  {
   "cell_type": "markdown",
   "metadata": {},
   "source": [
    "### Skapa ett beslutsträd med följande argument satta: criterion=\"entropy\" samt random_state\"=0. Bygg därefter beslutsträdet baserat på datan i \"X\" och \"y\" med hjälp av beslutsträdets funktion fit()\n"
   ]
  },
  {
   "cell_type": "code",
   "execution_count": null,
   "metadata": {},
   "outputs": [],
   "source": [
    "from sklearn.tree import DecisionTreeClassifier\n",
    "\n",
    "dtree = DecisionTreeClassifier(criterion='entropy', random_state=0)\n",
    "dtree.fit(X,y)"
   ]
  },
  {
   "cell_type": "markdown",
   "metadata": {},
   "source": [
    "### Skriv ut trädet till en PNG-fil."
   ]
  },
  {
   "cell_type": "code",
   "execution_count": null,
   "metadata": {},
   "outputs": [],
   "source": [
    "# Generera svartvit trädstruktur till PNG-fil\n",
    "from graphviz import Source\n",
    "from sklearn.tree import export_graphviz\n",
    "\n",
    "graph = Source( export_graphviz(dtree, out_file=None, feature_names=X.columns))\n",
    "graph.format = 'png'\n",
    "graph.render('grilla_tree',view=True)"
   ]
  },
  {
   "cell_type": "code",
   "execution_count": null,
   "metadata": {},
   "outputs": [],
   "source": [
    "# Generarea snyggare färglagd trädstruktur (vita noder, negativa löv som röda och positiva lov som gröna) till PNG-fil.\n",
    "import pydotplus\n",
    "\n",
    "dot_data = export_graphviz(dtree, feature_names=X.columns, out_file=None, filled=True, rounded=True)\n",
    "graph = pydotplus.graph_from_dot_data(dot_data)\n",
    "nodes = graph.get_node_list()\n",
    "colors =  ('springgreen', 'tomato', 'white')\n",
    "\n",
    "for node in nodes:\n",
    "    if node.get_name() not in ('node', 'edge'):\n",
    "        values = dtree.tree_.value[int(node.get_name())][0]\n",
    "        #color only nodes where only one class is present\n",
    "        if max(values) == sum(values):    \n",
    "            node.set_fillcolor(colors[np.argmax(values)])\n",
    "        #mixed nodes get the default color\n",
    "        else:\n",
    "            node.set_fillcolor(colors[-1])\n",
    "graph.write_png('grilla_tree_color.png')"
   ]
  },
  {
   "cell_type": "markdown",
   "metadata": {},
   "source": [
    "### Skapa en ny instans som har följande värden: \"Väder\"=0, \"Temperatur\"=0, \"Fuktighet\"=0, \"Vind\"=0"
   ]
  },
  {
   "cell_type": "code",
   "execution_count": null,
   "metadata": {},
   "outputs": [],
   "source": [
    "test = pd.DataFrame( [[0,0,0,0]], columns = [ \"Väder\", \"Temperatur\", \"Fuktighet\", \"Vind\" ] )\n",
    "print( test.to_string(index=False) )"
   ]
  },
  {
   "cell_type": "markdown",
   "metadata": {},
   "source": [
    "### Klassificera den nya instansen m.h.a. beslutsträdet och skriv ut vilken klass den får. Förklara varför instansen klassifieras som den gör. Vilken väg genom trädet används?"
   ]
  },
  {
   "cell_type": "code",
   "execution_count": null,
   "metadata": {},
   "outputs": [],
   "source": [
    "test_pred = dtree.predict(test)\n",
    "print( test_pred )"
   ]
  },
  {
   "cell_type": "markdown",
   "metadata": {},
   "source": [
    "### Skapa en ny instans som har följande värden: \"Väder\"=2, \"Temperatur\"=2, \"Fuktighet\"=1, \"Vind\"=1"
   ]
  },
  {
   "cell_type": "code",
   "execution_count": null,
   "metadata": {},
   "outputs": [],
   "source": [
    "test = pd.DataFrame( [[2,2,1,1]], columns = [ \"Väder\", \"Temperatur\", \"Fuktighet\", \"Vind\" ] )\n",
    "print( test.to_string(index=False) )"
   ]
  },
  {
   "cell_type": "markdown",
   "metadata": {},
   "source": [
    "### Klassificera den nya instansen m.h.a. beslutsträdet och skriv ut vilken klass den får. Förklara varför instansen klassifieras som den gör. Vilken väg genom trädet används?"
   ]
  },
  {
   "cell_type": "code",
   "execution_count": null,
   "metadata": {},
   "outputs": [],
   "source": [
    "test_pred = dtree.predict(test)\n",
    "print( test_pred )"
   ]
  },
  {
   "cell_type": "code",
   "execution_count": null,
   "metadata": {},
   "outputs": [],
   "source": []
  }
 ],
 "metadata": {
  "kernelspec": {
   "display_name": "Python 3",
   "language": "python",
   "name": "python3"
  },
  "language_info": {
   "codemirror_mode": {
    "name": "ipython",
    "version": 3
   },
   "file_extension": ".py",
   "mimetype": "text/x-python",
   "name": "python",
   "nbconvert_exporter": "python",
   "pygments_lexer": "ipython3",
   "version": "3.7.1"
  }
 },
 "nbformat": 4,
 "nbformat_minor": 2
}
